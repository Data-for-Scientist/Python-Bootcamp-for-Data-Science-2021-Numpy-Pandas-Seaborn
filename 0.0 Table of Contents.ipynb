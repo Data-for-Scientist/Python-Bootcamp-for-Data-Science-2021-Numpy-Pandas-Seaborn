{
 "cells": [
  {
   "cell_type": "markdown",
   "metadata": {},
   "source": [
    "![title](img/cover4.png)"
   ]
  },
  {
   "cell_type": "markdown",
   "metadata": {},
   "source": [
    "<center><em>Copyright! This material is protected, please do not copy or distribute.    by:Taher Assaf</em></center>"
   ]
  },
  {
   "cell_type": "markdown",
   "metadata": {},
   "source": [
    "***\n",
    "<h1 align=\"center\">Udemy course : Python Bootcamp for Data Science 2021 Numpy Pandas & Seaborn</h1> \n",
    "\n",
    "***"
   ]
  },
  {
   "cell_type": "markdown",
   "metadata": {},
   "source": [
    "# Table of Contents"
   ]
  },
  {
   "cell_type": "markdown",
   "metadata": {},
   "source": [
    "### Module 3: Working with Jupyter Notebooks"
   ]
  },
  {
   "cell_type": "markdown",
   "metadata": {},
   "source": [
    "### [3.1 Running Jupyter Notebook](3.1%20Running%20Jupyter%20Notebook.ipynb)"
   ]
  },
  {
   "cell_type": "markdown",
   "metadata": {},
   "source": [
    "### [3.2 Tour In Basics Of Jupyter Notebook](3.2%20Tour%20In%20Basics%20Of%20Jupyter%20Notebook.ipynb)"
   ]
  },
  {
   "cell_type": "markdown",
   "metadata": {},
   "source": [
    "### [3.3 Cell Types In Jupyter Notebook](3.3%20Cell%20Types%20In%20Jupyter%20Notebook.ipynb)"
   ]
  },
  {
   "cell_type": "markdown",
   "metadata": {},
   "source": [
    "### [3.4 Getting Help](3.4%20Getting%20Help.ipynb)"
   ]
  },
  {
   "cell_type": "markdown",
   "metadata": {},
   "source": [
    "### [3.5 Magic Commands](3.5%20Magic%20Commands.ipynb)"
   ]
  },
  {
   "cell_type": "markdown",
   "metadata": {},
   "source": [
    "### Module 4: Data Structures And Sequences In Python"
   ]
  },
  {
   "cell_type": "markdown",
   "metadata": {},
   "source": [
    "### [4.1 Tuples](4.1%20Tuples.ipynb)"
   ]
  },
  {
   "cell_type": "markdown",
   "metadata": {},
   "source": [
    "### [4.2 Lists](4.2%20Lists.ipynb)"
   ]
  },
  {
   "cell_type": "markdown",
   "metadata": {},
   "source": [
    "### [4.3 Dictionary](4.3%20Dictionary.ipynb)"
   ]
  },
  {
   "cell_type": "markdown",
   "metadata": {},
   "source": [
    "### [4.4 Set](4.4%20Set.ipynb)"
   ]
  },
  {
   "cell_type": "markdown",
   "metadata": {},
   "source": [
    "### Module 5: Functions in Python"
   ]
  },
  {
   "cell_type": "markdown",
   "metadata": {},
   "source": [
    "### [5.1 Creating and Calling Functions](5.1%20Creating%20and%20Calling%20Functions.ipynb)"
   ]
  },
  {
   "cell_type": "markdown",
   "metadata": {},
   "source": [
    "### [5.2 Returning Multiple Values](5.2%20Returning%20Multiple%20Values.ipynb)"
   ]
  },
  {
   "cell_type": "markdown",
   "metadata": {},
   "source": [
    "### [5.3 Lambda Functions](5.3%20Lambda%20Functions.ipynb)"
   ]
  },
  {
   "cell_type": "markdown",
   "metadata": {},
   "source": [
    "### Module 6: NumPy Arrays"
   ]
  },
  {
   "cell_type": "markdown",
   "metadata": {},
   "source": [
    "### [6.1 What Is NumPy Arrays (Ndarrays)](6.1%20What%20Is%20NumPy%20Arrays%20(Ndarrays).ipynb)"
   ]
  },
  {
   "cell_type": "markdown",
   "metadata": {},
   "source": [
    "### [6.2 Creating Ndarrays](6.2%20Creating%20Ndarrays.ipynb)"
   ]
  },
  {
   "cell_type": "markdown",
   "metadata": {},
   "source": [
    "### [6.3 Data Types For Ndarrays](6.3%20Data%20Types%20For%20Ndarrays.ipynb)"
   ]
  },
  {
   "cell_type": "markdown",
   "metadata": {},
   "source": [
    "### [6.4 Arithmetic With NumPy Arrays](6.4%20Arithmetic%20With%20NumPy%20Arrays.ipynb)"
   ]
  },
  {
   "cell_type": "markdown",
   "metadata": {},
   "source": [
    "### [6.5 Indexing And Slicing-part One](6.5%20Indexing%20And%20Slicing-part%20One.ipynb)"
   ]
  },
  {
   "cell_type": "markdown",
   "metadata": {},
   "source": [
    "### [6.6 Indexing And Slicing-part Two](6.6%20Indexing%20And%20Slicing-part%20Two.ipynb)"
   ]
  },
  {
   "cell_type": "markdown",
   "metadata": {},
   "source": [
    "### [6.7 Boolean Indexing](6.7%20Boolean%20Indexing.ipynb)"
   ]
  },
  {
   "cell_type": "markdown",
   "metadata": {},
   "source": [
    "### [6.8 Fancy Indexing](6.8%20Fancy%20Indexing.ipynb)"
   ]
  },
  {
   "cell_type": "markdown",
   "metadata": {},
   "source": [
    "### [6.9 Transposing Arrays](6.9%20Transposing%20Arrays.ipynb)"
   ]
  },
  {
   "cell_type": "markdown",
   "metadata": {},
   "source": [
    "### [6.10 Mathematical and Statistical methods](6.10%20Mathematical%20and%20Statistical%20methods.ipynb)"
   ]
  },
  {
   "cell_type": "markdown",
   "metadata": {},
   "source": [
    "### [6.11 Sorting Arrays](6.11%20Sorting%20Arrays.ipynb)"
   ]
  },
  {
   "cell_type": "markdown",
   "metadata": {},
   "source": [
    "### [6.12 File Input and Output with Arrays](6.12%20File%20Input%20and%20Output%20with%20Arrays.ipynb)"
   ]
  },
  {
   "cell_type": "markdown",
   "metadata": {},
   "source": [
    "### Module 7: Pandas Dataframe"
   ]
  },
  {
   "cell_type": "markdown",
   "metadata": {},
   "source": [
    "### [7.1 Series in Pandas](7.1%20Series%20in%20Pandas.ipynb)"
   ]
  },
  {
   "cell_type": "markdown",
   "metadata": {},
   "source": [
    "### [7.2 Dataframe in Pandas](7.2%20Dataframe%20in%20Pandas.ipynb)"
   ]
  },
  {
   "cell_type": "markdown",
   "metadata": {},
   "source": [
    "### [7.3 index Objects](7.3%20index%20Objects.ipynb)"
   ]
  },
  {
   "cell_type": "markdown",
   "metadata": {},
   "source": [
    "### [7.4 Reindexing](7.4%20Reindexing.ipynb)"
   ]
  },
  {
   "cell_type": "markdown",
   "metadata": {},
   "source": [
    "### [7.5 Deleting Rows and Columns](7.5%20Deleting%20Rows%20and%20Columns.ipynb)"
   ]
  },
  {
   "cell_type": "markdown",
   "metadata": {},
   "source": [
    "### [7.6 Indexing, Slicing and Filtering](7.6%20Indexing,%20Slicing%20and%20Filtering.ipynb)"
   ]
  },
  {
   "cell_type": "markdown",
   "metadata": {},
   "source": [
    "### [7.7 Arithmetic with Dataframe](7.7%20Arithmetic%20with%20Dataframe.ipynb)"
   ]
  },
  {
   "cell_type": "markdown",
   "metadata": {},
   "source": [
    "### [7.8 Sorting Series and Dataframe](7.8%20Sorting%20Series%20and%20Dataframe.ipynb)"
   ]
  },
  {
   "cell_type": "markdown",
   "metadata": {},
   "source": [
    "### [7.9 Descriptive Statistics with Dataframe](7.9%20Descriptive%20Statistics%20with%20Dataframe.ipynb)"
   ]
  },
  {
   "cell_type": "markdown",
   "metadata": {},
   "source": [
    "### [7.10 Correlation and Covariance](7.10%20Correlation%20and%20Covariance.ipynb)"
   ]
  },
  {
   "cell_type": "markdown",
   "metadata": {},
   "source": [
    "### Module 8: Data Loading, Storage with Pandas"
   ]
  },
  {
   "cell_type": "markdown",
   "metadata": {},
   "source": [
    "### [8.1 Reading Data In Text Format](8.1%20Reading%20Data%20In%20Text%20Format.ipynb)"
   ]
  },
  {
   "cell_type": "markdown",
   "metadata": {},
   "source": [
    "### [8.2 Reading Data In Text Format-part 2](8.2%20Reading%20Data%20In%20Text%20Format-part%202.ipynb)"
   ]
  },
  {
   "cell_type": "markdown",
   "metadata": {},
   "source": [
    "### [8.3 Writing Data in Text Format](8.3%20Writing%20Data%20in%20Text%20Format.ipynb)"
   ]
  },
  {
   "cell_type": "markdown",
   "metadata": {},
   "source": [
    "### [8.4 Reading Microsoft Excel Files](8.4%20Reading%20Microsoft%20Excel%20Files.ipynb)"
   ]
  },
  {
   "cell_type": "markdown",
   "metadata": {},
   "source": [
    "### Module 9: Data Cleaning and Preprocessing"
   ]
  },
  {
   "cell_type": "markdown",
   "metadata": {},
   "source": [
    "### [9.1 Handling Missing Data](9.1%20Handling%20Missing%20Data.ipynb)"
   ]
  },
  {
   "cell_type": "markdown",
   "metadata": {},
   "source": [
    "### [9.2 Filtering out Missing Data](9.2%20Filtering%20out%20Missing%20Data.ipynb)"
   ]
  },
  {
   "cell_type": "markdown",
   "metadata": {},
   "source": [
    "### [9.3 Filling in Missing Data](9.3%20Filling%20in%20Missing%20Data.ipynb)"
   ]
  },
  {
   "cell_type": "markdown",
   "metadata": {},
   "source": [
    "### [9.4 Removing Duplicate Entries](9.4%20Removing%20Duplicate%20Entries.ipynb)"
   ]
  },
  {
   "cell_type": "markdown",
   "metadata": {},
   "source": [
    "### [9.5 Replacing Values](9.5%20Replacing%20Values.ipynb)"
   ]
  },
  {
   "cell_type": "markdown",
   "metadata": {},
   "source": [
    "### [9.6 Renaming columns and index labels](9.6%20Renaming%20columns%20and%20index%20labels.ipynb)"
   ]
  },
  {
   "cell_type": "markdown",
   "metadata": {},
   "source": [
    "### [9.7 Filtering Outliers](9.7%20Filtering%20Outliers.ipynb)"
   ]
  },
  {
   "cell_type": "markdown",
   "metadata": {},
   "source": [
    "### [9.8 Shuffling and Random Sampling](9.8%20Shuffling%20and%20Random%20Sampling.ipynb)"
   ]
  },
  {
   "cell_type": "markdown",
   "metadata": {},
   "source": [
    "### [9.9 Dummy Variables](9.9%20Dummy%20Variables.ipynb)"
   ]
  },
  {
   "cell_type": "markdown",
   "metadata": {},
   "source": [
    "### [9.10 String Object Methods](9.10%20String%20Object%20Methods.ipynb)"
   ]
  },
  {
   "cell_type": "markdown",
   "metadata": {},
   "source": [
    "### Module 10: Data Wrangling1: Hierarchical Indexing"
   ]
  },
  {
   "cell_type": "markdown",
   "metadata": {},
   "source": [
    "### [10.1 Hierarchical Indexing](10.1%20Hierarchical%20Indexing.ipynb)"
   ]
  },
  {
   "cell_type": "markdown",
   "metadata": {},
   "source": [
    "### [10.2 Reordering and Sorting Levels](10.2%20Reordering%20and%20Sorting%20Levels.ipynb)"
   ]
  },
  {
   "cell_type": "markdown",
   "metadata": {},
   "source": [
    "### [10.3 Summary Statistics By Level](10.3%20Summary%20Statistics%20By%20Level.ipynb)"
   ]
  },
  {
   "cell_type": "markdown",
   "metadata": {},
   "source": [
    "### [10.4 Indexing with columns in Dataframe](10.4%20Indexing%20with%20columns%20in%20Dataframe.ipynb)"
   ]
  },
  {
   "cell_type": "markdown",
   "metadata": {},
   "source": [
    "### Module 11: Data Wrangling2: Combining and Merging Datasets"
   ]
  },
  {
   "cell_type": "markdown",
   "metadata": {},
   "source": [
    "### [11.1 Merging Datasets on Keys (common columns)](11.1%20Merging%20Datasets%20on%20Keys%20(common%20columns).ipynb)"
   ]
  },
  {
   "cell_type": "markdown",
   "metadata": {},
   "source": [
    "### [11.2 Merging Datasets on Index](11.2%20Merging%20Datasets%20on%20Index.ipynb)"
   ]
  },
  {
   "cell_type": "markdown",
   "metadata": {},
   "source": [
    "### [11.3 Concatenating Along An Axis](11.3%20Concatenating%20Along%20An%20Axis.ipynb)"
   ]
  },
  {
   "cell_type": "markdown",
   "metadata": {},
   "source": [
    "### Module 12: Data Wrangling3: Reshaping and Pivoting"
   ]
  },
  {
   "cell_type": "markdown",
   "metadata": {},
   "source": [
    "### [12.1 Reshaping by Stacking and Unstacking](12.1%20Reshaping%20by%20Stacking%20and%20Unstacking.ipynb)"
   ]
  },
  {
   "cell_type": "markdown",
   "metadata": {},
   "source": [
    "### [12.2 Reshaping by Melting](12.2%20Reshaping%20by%20Melting%20(Wide%20to%20Long).ipynb)"
   ]
  },
  {
   "cell_type": "markdown",
   "metadata": {},
   "source": [
    "### [12.3 Reshaping by Pivoting (Long to Wide)](12.3%20Reshaping%20by%20Pivoting%20(Long%20to%20Wide).ipynb)"
   ]
  },
  {
   "cell_type": "markdown",
   "metadata": {},
   "source": [
    "### Module 13: Data Visualization with Matplotlib and Seaborn"
   ]
  },
  {
   "cell_type": "markdown",
   "metadata": {},
   "source": [
    "### [13.1 Introducing Matplotlib Library](13.1%20Introducing%20Matplotlib%20Library.ipynb)"
   ]
  },
  {
   "cell_type": "markdown",
   "metadata": {},
   "source": [
    "### [13.2 Creating Figures and Subplots](13.2%20Creating%20Figures%20and%20Subplots.ipynb)"
   ]
  },
  {
   "cell_type": "markdown",
   "metadata": {},
   "source": [
    "### [13.3 Changing Colors, Markers and Linestyle](13.3%20Changing%20Colors,%20Markers%20and%20Linestyle.ipynb)"
   ]
  },
  {
   "cell_type": "markdown",
   "metadata": {},
   "source": [
    "### [13.4 Customizing Ticks and labels](13.4%20Customizing%20Ticks%20and%20labels.ipynb)"
   ]
  },
  {
   "cell_type": "markdown",
   "metadata": {},
   "source": [
    "### [13.5 Adding Legends](13.5%20Adding%20Legends.ipynb)"
   ]
  },
  {
   "cell_type": "markdown",
   "metadata": {},
   "source": [
    "### [13.6 Adding Texts and Arrows on a Plot](13.6%20Adding%20Texts%20and%20Arrows%20on%20a%20Plot.ipynb)"
   ]
  },
  {
   "cell_type": "markdown",
   "metadata": {},
   "source": [
    "### [13.7 Adding Annotations and Drawings on a Plot](13.7%20Adding%20Annotations%20and%20Drawings%20on%20a%20Plot.ipynb)"
   ]
  },
  {
   "cell_type": "markdown",
   "metadata": {},
   "source": [
    "### [13.8 Saving Plots to File](13.8%20Saving%20Plots%20to%20File.ipynb)"
   ]
  },
  {
   "cell_type": "markdown",
   "metadata": {},
   "source": [
    "### [13.9 Line Plots with Dataframe](13.9%20Line%20Plots%20with%20Dataframe.ipynb)"
   ]
  },
  {
   "cell_type": "markdown",
   "metadata": {},
   "source": [
    "### [13.10 Bar Plots with Dataframes](13.10%20Bar%20Plots%20with%20Dataframes.ipynb)"
   ]
  },
  {
   "cell_type": "markdown",
   "metadata": {},
   "source": [
    "### [13.11 Bar Plots with Seaborn](13.11%20Bar%20Plots%20with%20Seaborn.ipynb)"
   ]
  },
  {
   "cell_type": "markdown",
   "metadata": {},
   "source": [
    "### [13.12 Histograms and Density Plots](13.12%20Histograms%20and%20Density%20Plots.ipynb)"
   ]
  },
  {
   "cell_type": "markdown",
   "metadata": {},
   "source": [
    "### [13.13 Scatter Plots and Pair Plots](13.13%20Scatter%20Plots%20and%20Pair%20Plots.ipynb)"
   ]
  },
  {
   "cell_type": "markdown",
   "metadata": {},
   "source": [
    "### [13.14 Factor Plots for Categorical Data](13.14%20Factor%20Plots%20for%20Categorical%20Data.ipynb)"
   ]
  },
  {
   "cell_type": "markdown",
   "metadata": {},
   "source": [
    "### Module 14 : Time Series"
   ]
  },
  {
   "cell_type": "markdown",
   "metadata": {},
   "source": [
    "### [14.1 Date and time Data types](14.1%20Date%20and%20time%20Data%20types.ipynb)"
   ]
  },
  {
   "cell_type": "markdown",
   "metadata": {},
   "source": [
    "### [14.2 Converting Between String and Datetime](14.2%20Converting%20Between%20String%20and%20Datetime.ipynb)"
   ]
  },
  {
   "cell_type": "markdown",
   "metadata": {},
   "source": [
    "### [14.3 Basics of Time Series](14.3%20Basics%20of%20Time%20Series.ipynb)"
   ]
  },
  {
   "cell_type": "markdown",
   "metadata": {},
   "source": [
    "### [14.4 Generating Date Ranges](14.4%20Generating%20Date%20Ranges.ipynb)"
   ]
  },
  {
   "cell_type": "markdown",
   "metadata": {},
   "source": [
    "### [14.5 Shifting Data Through Time (Lagging and Leading)](14.5%20Shifting%20Data%20Through%20Time%20(Lagging%20and%20Leading).ipynb)"
   ]
  },
  {
   "cell_type": "markdown",
   "metadata": {},
   "source": [
    "### [14.6 Handling Time Zone](14.6%20Handling%20Time%20Zone.ipynb)"
   ]
  },
  {
   "cell_type": "markdown",
   "metadata": {},
   "source": [
    "### [14.7 Resampling and Frequency Conversion](14.7%20Resampling%20and%20Frequency%20Conversion.ipynb)"
   ]
  },
  {
   "cell_type": "markdown",
   "metadata": {},
   "source": [
    "### [14.8 Rolling and Moving Windows](14.8%20Rolling%20and%20Moving%20Windows.ipynb)"
   ]
  },
  {
   "cell_type": "markdown",
   "metadata": {},
   "source": [
    "### Module 15: Real World Data Analysis Example"
   ]
  },
  {
   "cell_type": "markdown",
   "metadata": {},
   "source": [
    "### [Real World Example-Housing](Real%20World%20Example-Housing.ipynb)"
   ]
  },
  {
   "cell_type": "markdown",
   "metadata": {},
   "source": [
    "______________________________________________\n",
    "# Exercises\n",
    "____________________________________________________________________"
   ]
  },
  {
   "cell_type": "markdown",
   "metadata": {},
   "source": [
    "### [Exercise module 4](exercises/Exercise%20ch4.ipynb)"
   ]
  },
  {
   "cell_type": "markdown",
   "metadata": {},
   "source": [
    "### [Exercise module 5](exercises/Exercise%20ch5.ipynb)"
   ]
  },
  {
   "cell_type": "markdown",
   "metadata": {},
   "source": [
    "### [Exercise module 6](exercises/Exercise%20ch6.ipynb)"
   ]
  },
  {
   "cell_type": "markdown",
   "metadata": {},
   "source": [
    "### [Exercise module 7](exercises/Exercise%20ch7.ipynb)"
   ]
  },
  {
   "cell_type": "markdown",
   "metadata": {},
   "source": [
    "### [Exercise module 8](exercises/Exercise%20ch8.ipynb)"
   ]
  },
  {
   "cell_type": "markdown",
   "metadata": {},
   "source": [
    "### [Exercise module 9](exercises/Exercise%20ch9.ipynb)"
   ]
  },
  {
   "cell_type": "markdown",
   "metadata": {},
   "source": [
    "### [Exercise module 10](exercises/Exercise%20ch10.ipynb)"
   ]
  },
  {
   "cell_type": "markdown",
   "metadata": {},
   "source": [
    "### [Exercise module 11](exercises/Exercise%20ch11.ipynb)"
   ]
  },
  {
   "cell_type": "markdown",
   "metadata": {},
   "source": [
    "### [Exercise module 12](exercises/Exercise%20ch12.ipynb)"
   ]
  },
  {
   "cell_type": "markdown",
   "metadata": {},
   "source": [
    "### [Exercise module 13](exercises/Exercise%20ch13.ipynb)"
   ]
  },
  {
   "cell_type": "markdown",
   "metadata": {},
   "source": [
    "***\n",
    "\n",
    "<h1 align=\"center\">Thank You</h1> \n",
    "\n",
    "***"
   ]
  }
 ],
 "metadata": {
  "kernelspec": {
   "display_name": "Python 3",
   "language": "python",
   "name": "python3"
  },
  "language_info": {
   "codemirror_mode": {
    "name": "ipython",
    "version": 3
   },
   "file_extension": ".py",
   "mimetype": "text/x-python",
   "name": "python",
   "nbconvert_exporter": "python",
   "pygments_lexer": "ipython3",
   "version": "3.8.5"
  }
 },
 "nbformat": 4,
 "nbformat_minor": 4
}
