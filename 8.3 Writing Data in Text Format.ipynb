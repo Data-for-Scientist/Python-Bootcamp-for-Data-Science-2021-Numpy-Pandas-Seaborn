{
 "cells": [
  {
   "cell_type": "markdown",
   "metadata": {},
   "source": [
    "![title](img/cover4.png)"
   ]
  },
  {
   "cell_type": "markdown",
   "metadata": {},
   "source": [
    "<center><em>Copyright! This material is protected, please do not copy or distribute.    by:Taher Assaf</em></center>"
   ]
  },
  {
   "cell_type": "markdown",
   "metadata": {},
   "source": [
    "***\n",
    "<h1 align=\"center\">Udemy course : Python Bootcamp for Data Science 2021 Numpy Pandas & Seaborn</h1> \n",
    "\n",
    "***"
   ]
  },
  {
   "cell_type": "markdown",
   "metadata": {},
   "source": [
    "## 8.3 Writing Data in Text Format"
   ]
  },
  {
   "cell_type": "markdown",
   "metadata": {},
   "source": [
    "First we import numpy and pandas library:"
   ]
  },
  {
   "cell_type": "code",
   "execution_count": 1,
   "metadata": {
    "hide_input": false
   },
   "outputs": [],
   "source": [
    "import numpy as np\n",
    "import pandas as pd"
   ]
  },
  {
   "cell_type": "markdown",
   "metadata": {},
   "source": [
    "Lets read a dataframe from a csv file using the function **pd.read_csv()**:"
   ]
  },
  {
   "cell_type": "code",
   "execution_count": 2,
   "metadata": {
    "hide_input": false
   },
   "outputs": [
    {
     "data": {
      "text/html": [
       "<div>\n",
       "<style scoped>\n",
       "    .dataframe tbody tr th:only-of-type {\n",
       "        vertical-align: middle;\n",
       "    }\n",
       "\n",
       "    .dataframe tbody tr th {\n",
       "        vertical-align: top;\n",
       "    }\n",
       "\n",
       "    .dataframe thead th {\n",
       "        text-align: right;\n",
       "    }\n",
       "</style>\n",
       "<table border=\"1\" class=\"dataframe\">\n",
       "  <thead>\n",
       "    <tr style=\"text-align: right;\">\n",
       "      <th></th>\n",
       "      <th>Population</th>\n",
       "      <th>Area</th>\n",
       "      <th>World_Share</th>\n",
       "    </tr>\n",
       "    <tr>\n",
       "      <th>Country</th>\n",
       "      <th></th>\n",
       "      <th></th>\n",
       "      <th></th>\n",
       "    </tr>\n",
       "  </thead>\n",
       "  <tbody>\n",
       "    <tr>\n",
       "      <th>China</th>\n",
       "      <td>1440297825</td>\n",
       "      <td>9388211</td>\n",
       "      <td>18.47%</td>\n",
       "    </tr>\n",
       "    <tr>\n",
       "      <th>India</th>\n",
       "      <td>1382345085</td>\n",
       "      <td>2973190</td>\n",
       "      <td>17.70%</td>\n",
       "    </tr>\n",
       "    <tr>\n",
       "      <th>United States</th>\n",
       "      <td>331341050</td>\n",
       "      <td>9147420</td>\n",
       "      <td>4.25%</td>\n",
       "    </tr>\n",
       "    <tr>\n",
       "      <th>Indonesia</th>\n",
       "      <td>274021604</td>\n",
       "      <td>1811570</td>\n",
       "      <td>3.51%</td>\n",
       "    </tr>\n",
       "    <tr>\n",
       "      <th>Pakistan</th>\n",
       "      <td>221612785</td>\n",
       "      <td>770880</td>\n",
       "      <td>2.83%</td>\n",
       "    </tr>\n",
       "  </tbody>\n",
       "</table>\n",
       "</div>"
      ],
      "text/plain": [
       "               Population     Area World_Share\n",
       "Country                                       \n",
       "China          1440297825  9388211      18.47%\n",
       "India          1382345085  2973190      17.70%\n",
       "United States   331341050  9147420       4.25%\n",
       "Indonesia       274021604  1811570       3.51%\n",
       "Pakistan        221612785   770880       2.83%"
      ]
     },
     "execution_count": 2,
     "metadata": {},
     "output_type": "execute_result"
    }
   ],
   "source": [
    "pop = pd.read_csv('data/population.csv', index_col = 'Country')\n",
    "pop.head()"
   ]
  },
  {
   "cell_type": "markdown",
   "metadata": {},
   "source": [
    "Lets change this dataframe by adding a new column called **Density**:"
   ]
  },
  {
   "cell_type": "code",
   "execution_count": 3,
   "metadata": {
    "hide_input": false
   },
   "outputs": [],
   "source": [
    "pop['Density'] = pop['Population'] /pop['Area']"
   ]
  },
  {
   "cell_type": "code",
   "execution_count": 4,
   "metadata": {
    "hide_input": false
   },
   "outputs": [
    {
     "data": {
      "text/html": [
       "<div>\n",
       "<style scoped>\n",
       "    .dataframe tbody tr th:only-of-type {\n",
       "        vertical-align: middle;\n",
       "    }\n",
       "\n",
       "    .dataframe tbody tr th {\n",
       "        vertical-align: top;\n",
       "    }\n",
       "\n",
       "    .dataframe thead th {\n",
       "        text-align: right;\n",
       "    }\n",
       "</style>\n",
       "<table border=\"1\" class=\"dataframe\">\n",
       "  <thead>\n",
       "    <tr style=\"text-align: right;\">\n",
       "      <th></th>\n",
       "      <th>Population</th>\n",
       "      <th>Area</th>\n",
       "      <th>World_Share</th>\n",
       "      <th>Density</th>\n",
       "    </tr>\n",
       "    <tr>\n",
       "      <th>Country</th>\n",
       "      <th></th>\n",
       "      <th></th>\n",
       "      <th></th>\n",
       "      <th></th>\n",
       "    </tr>\n",
       "  </thead>\n",
       "  <tbody>\n",
       "    <tr>\n",
       "      <th>China</th>\n",
       "      <td>1440297825</td>\n",
       "      <td>9388211</td>\n",
       "      <td>18.47%</td>\n",
       "      <td>153.415579</td>\n",
       "    </tr>\n",
       "    <tr>\n",
       "      <th>India</th>\n",
       "      <td>1382345085</td>\n",
       "      <td>2973190</td>\n",
       "      <td>17.70%</td>\n",
       "      <td>464.936679</td>\n",
       "    </tr>\n",
       "    <tr>\n",
       "      <th>United States</th>\n",
       "      <td>331341050</td>\n",
       "      <td>9147420</td>\n",
       "      <td>4.25%</td>\n",
       "      <td>36.222350</td>\n",
       "    </tr>\n",
       "    <tr>\n",
       "      <th>Indonesia</th>\n",
       "      <td>274021604</td>\n",
       "      <td>1811570</td>\n",
       "      <td>3.51%</td>\n",
       "      <td>151.261946</td>\n",
       "    </tr>\n",
       "    <tr>\n",
       "      <th>Pakistan</th>\n",
       "      <td>221612785</td>\n",
       "      <td>770880</td>\n",
       "      <td>2.83%</td>\n",
       "      <td>287.480263</td>\n",
       "    </tr>\n",
       "  </tbody>\n",
       "</table>\n",
       "</div>"
      ],
      "text/plain": [
       "               Population     Area World_Share     Density\n",
       "Country                                                   \n",
       "China          1440297825  9388211      18.47%  153.415579\n",
       "India          1382345085  2973190      17.70%  464.936679\n",
       "United States   331341050  9147420       4.25%   36.222350\n",
       "Indonesia       274021604  1811570       3.51%  151.261946\n",
       "Pakistan        221612785   770880       2.83%  287.480263"
      ]
     },
     "execution_count": 4,
     "metadata": {},
     "output_type": "execute_result"
    }
   ],
   "source": [
    "pop.head()"
   ]
  },
  {
   "cell_type": "markdown",
   "metadata": {},
   "source": [
    "We can save this dataframe in a csv file using the function **to_csv()**:"
   ]
  },
  {
   "cell_type": "code",
   "execution_count": 5,
   "metadata": {
    "hide_input": false
   },
   "outputs": [],
   "source": [
    "pop.to_csv('data/Population2.csv')"
   ]
  },
  {
   "cell_type": "markdown",
   "metadata": {},
   "source": [
    "Here we read the file that we have just saved:"
   ]
  },
  {
   "cell_type": "code",
   "execution_count": 6,
   "metadata": {
    "hide_input": false
   },
   "outputs": [
    {
     "data": {
      "text/html": [
       "<div>\n",
       "<style scoped>\n",
       "    .dataframe tbody tr th:only-of-type {\n",
       "        vertical-align: middle;\n",
       "    }\n",
       "\n",
       "    .dataframe tbody tr th {\n",
       "        vertical-align: top;\n",
       "    }\n",
       "\n",
       "    .dataframe thead th {\n",
       "        text-align: right;\n",
       "    }\n",
       "</style>\n",
       "<table border=\"1\" class=\"dataframe\">\n",
       "  <thead>\n",
       "    <tr style=\"text-align: right;\">\n",
       "      <th></th>\n",
       "      <th>Population</th>\n",
       "      <th>Area</th>\n",
       "      <th>World_Share</th>\n",
       "      <th>Density</th>\n",
       "    </tr>\n",
       "    <tr>\n",
       "      <th>Country</th>\n",
       "      <th></th>\n",
       "      <th></th>\n",
       "      <th></th>\n",
       "      <th></th>\n",
       "    </tr>\n",
       "  </thead>\n",
       "  <tbody>\n",
       "    <tr>\n",
       "      <th>China</th>\n",
       "      <td>1440297825</td>\n",
       "      <td>9388211</td>\n",
       "      <td>18.47%</td>\n",
       "      <td>153.415579</td>\n",
       "    </tr>\n",
       "    <tr>\n",
       "      <th>India</th>\n",
       "      <td>1382345085</td>\n",
       "      <td>2973190</td>\n",
       "      <td>17.70%</td>\n",
       "      <td>464.936679</td>\n",
       "    </tr>\n",
       "    <tr>\n",
       "      <th>United States</th>\n",
       "      <td>331341050</td>\n",
       "      <td>9147420</td>\n",
       "      <td>4.25%</td>\n",
       "      <td>36.222350</td>\n",
       "    </tr>\n",
       "    <tr>\n",
       "      <th>Indonesia</th>\n",
       "      <td>274021604</td>\n",
       "      <td>1811570</td>\n",
       "      <td>3.51%</td>\n",
       "      <td>151.261946</td>\n",
       "    </tr>\n",
       "    <tr>\n",
       "      <th>Pakistan</th>\n",
       "      <td>221612785</td>\n",
       "      <td>770880</td>\n",
       "      <td>2.83%</td>\n",
       "      <td>287.480263</td>\n",
       "    </tr>\n",
       "  </tbody>\n",
       "</table>\n",
       "</div>"
      ],
      "text/plain": [
       "               Population     Area World_Share     Density\n",
       "Country                                                   \n",
       "China          1440297825  9388211      18.47%  153.415579\n",
       "India          1382345085  2973190      17.70%  464.936679\n",
       "United States   331341050  9147420       4.25%   36.222350\n",
       "Indonesia       274021604  1811570       3.51%  151.261946\n",
       "Pakistan        221612785   770880       2.83%  287.480263"
      ]
     },
     "execution_count": 6,
     "metadata": {},
     "output_type": "execute_result"
    }
   ],
   "source": [
    "pop2 = pd.read_csv('data/population2.csv', index_col = 'Country')\n",
    "pop2.head()"
   ]
  },
  {
   "cell_type": "markdown",
   "metadata": {},
   "source": [
    "To check for the saved file, we can explore the directory (data) using the function **listdir()**:"
   ]
  },
  {
   "cell_type": "code",
   "execution_count": 7,
   "metadata": {
    "hide_input": false
   },
   "outputs": [],
   "source": [
    "from os import listdir"
   ]
  },
  {
   "cell_type": "code",
   "execution_count": 8,
   "metadata": {
    "hide_input": false
   },
   "outputs": [
    {
     "data": {
      "text/plain": [
       "['Advertising.csv',\n",
       " 'AirPassenger.csv',\n",
       " 'apple.csv',\n",
       " 'auto1.csv',\n",
       " 'auto2.csv',\n",
       " 'auto3.csv',\n",
       " 'boston.csv',\n",
       " 'credit.csv',\n",
       " 'credit.xlsx',\n",
       " 'ex1.csv',\n",
       " 'ex10.csv',\n",
       " 'ex11.csv',\n",
       " 'ex12.csv',\n",
       " 'ex13.csv',\n",
       " 'ex14.csv',\n",
       " 'ex15.csv',\n",
       " 'ex16.csv',\n",
       " 'ex17.csv',\n",
       " 'ex18.csv',\n",
       " 'ex2.csv',\n",
       " 'ex3.csv',\n",
       " 'ex4.csv',\n",
       " 'ex5.csv',\n",
       " 'ex6.csv',\n",
       " 'ex7.csv',\n",
       " 'ex8.csv',\n",
       " 'ex9.csv',\n",
       " 'example1.xlsx',\n",
       " 'firstfigure.png',\n",
       " 'firstfigure.svg',\n",
       " 'firstfigure1.svg',\n",
       " 'firstfigure3.svg',\n",
       " 'housing.csv',\n",
       " 'housing3.csv',\n",
       " 'New Microsoft Excel Worksheet.xlsx',\n",
       " 'population.csv',\n",
       " 'Population2.csv',\n",
       " 'sales.csv',\n",
       " 'series1.csv',\n",
       " 'temperature.csv',\n",
       " 'wage.csv']"
      ]
     },
     "execution_count": 8,
     "metadata": {},
     "output_type": "execute_result"
    }
   ],
   "source": [
    "listdir('data')"
   ]
  },
  {
   "cell_type": "markdown",
   "metadata": {},
   "source": [
    "We can also save pandas series as well, lets now create this series:"
   ]
  },
  {
   "cell_type": "code",
   "execution_count": 9,
   "metadata": {
    "hide_input": false
   },
   "outputs": [
    {
     "data": {
      "text/plain": [
       "a    0\n",
       "b    1\n",
       "c    2\n",
       "d    3\n",
       "e    4\n",
       "f    5\n",
       "g    6\n",
       "h    7\n",
       "i    8\n",
       "j    9\n",
       "dtype: int32"
      ]
     },
     "execution_count": 9,
     "metadata": {},
     "output_type": "execute_result"
    }
   ],
   "source": [
    "series1 = pd.Series(np.arange(10), index = list('abcdefghij'))\n",
    "series1"
   ]
  },
  {
   "cell_type": "markdown",
   "metadata": {},
   "source": [
    "We can save the series using the function **to_csv()**:"
   ]
  },
  {
   "cell_type": "code",
   "execution_count": 10,
   "metadata": {
    "hide_input": false
   },
   "outputs": [],
   "source": [
    "series1.to_csv('data/series1.csv')"
   ]
  },
  {
   "cell_type": "markdown",
   "metadata": {},
   "source": [
    "Lets now list the file in the directory data using the function **listdir()**:"
   ]
  },
  {
   "cell_type": "code",
   "execution_count": 11,
   "metadata": {
    "hide_input": false
   },
   "outputs": [
    {
     "data": {
      "text/plain": [
       "['Advertising.csv',\n",
       " 'AirPassenger.csv',\n",
       " 'apple.csv',\n",
       " 'auto1.csv',\n",
       " 'auto2.csv',\n",
       " 'auto3.csv',\n",
       " 'boston.csv',\n",
       " 'credit.csv',\n",
       " 'credit.xlsx',\n",
       " 'ex1.csv',\n",
       " 'ex10.csv',\n",
       " 'ex11.csv',\n",
       " 'ex12.csv',\n",
       " 'ex13.csv',\n",
       " 'ex14.csv',\n",
       " 'ex15.csv',\n",
       " 'ex16.csv',\n",
       " 'ex17.csv',\n",
       " 'ex18.csv',\n",
       " 'ex2.csv',\n",
       " 'ex3.csv',\n",
       " 'ex4.csv',\n",
       " 'ex5.csv',\n",
       " 'ex6.csv',\n",
       " 'ex7.csv',\n",
       " 'ex8.csv',\n",
       " 'ex9.csv',\n",
       " 'example1.xlsx',\n",
       " 'firstfigure.png',\n",
       " 'firstfigure.svg',\n",
       " 'firstfigure1.svg',\n",
       " 'firstfigure3.svg',\n",
       " 'housing.csv',\n",
       " 'housing3.csv',\n",
       " 'New Microsoft Excel Worksheet.xlsx',\n",
       " 'population.csv',\n",
       " 'Population2.csv',\n",
       " 'sales.csv',\n",
       " 'series1.csv',\n",
       " 'temperature.csv',\n",
       " 'wage.csv']"
      ]
     },
     "execution_count": 11,
     "metadata": {},
     "output_type": "execute_result"
    }
   ],
   "source": [
    "listdir('data')"
   ]
  },
  {
   "cell_type": "markdown",
   "metadata": {},
   "source": [
    "***\n",
    "\n",
    "<h1 align=\"center\">Thank You</h1> \n",
    "\n",
    "***"
   ]
  }
 ],
 "metadata": {
  "kernelspec": {
   "display_name": "Python 3",
   "language": "python",
   "name": "python3"
  },
  "language_info": {
   "codemirror_mode": {
    "name": "ipython",
    "version": 3
   },
   "file_extension": ".py",
   "mimetype": "text/x-python",
   "name": "python",
   "nbconvert_exporter": "python",
   "pygments_lexer": "ipython3",
   "version": "3.8.5"
  }
 },
 "nbformat": 4,
 "nbformat_minor": 4
}
