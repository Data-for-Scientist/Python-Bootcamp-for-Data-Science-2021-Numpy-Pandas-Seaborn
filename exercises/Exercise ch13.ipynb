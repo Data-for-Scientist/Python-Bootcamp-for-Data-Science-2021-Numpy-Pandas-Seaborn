{
 "cells": [
  {
   "cell_type": "markdown",
   "metadata": {},
   "source": [
    "![title](img/cover4.png)"
   ]
  },
  {
   "cell_type": "markdown",
   "metadata": {},
   "source": [
    "<center><em>Copyright! This material is protected, please do not copy or distribute.    by:Taher Assaf</em></center>"
   ]
  },
  {
   "cell_type": "markdown",
   "metadata": {},
   "source": [
    "***\n",
    "<h1 align=\"center\">Udemy course : Python Bootcamp for Data Science 2021 Numpy Pandas & Seaborn</h1> \n",
    "\n",
    "***"
   ]
  },
  {
   "cell_type": "markdown",
   "metadata": {},
   "source": [
    "### The Exercises for  Module 13\n",
    "\n",
    "#### Instruction:  Please write your code after the phrase \" ## Your codes begin here:\""
   ]
  },
  {
   "cell_type": "markdown",
   "metadata": {},
   "source": [
    "#### Q1. Create line plots for the four arrays (which are created in the first code cell below) in four separate subplots?\n",
    "\n",
    "**Hint1:** Do not forget to run the first code cell below to create the arrays for you.\n",
    "\n",
    "**Hint2:** You will need to create four subplots using the function **plt.subplots()**.\n",
    "\n",
    "**Hint3:** Refer to the second lecture of module 13 for more information."
   ]
  },
  {
   "cell_type": "code",
   "execution_count": 1,
   "metadata": {},
   "outputs": [],
   "source": [
    "## just run this cell to create the four arrays\n",
    "\n",
    "import numpy as np\n",
    "import pandas as pd\n",
    "import seaborn as sns\n",
    "import matplotlib.pyplot as plt\n",
    "%matplotlib inline\n",
    "np.random.seed(50)   ## Used to generate the same numbers each time we run the script.\n",
    "\n",
    "\n",
    "array1 = np.random.randn(10).cumsum()\n",
    "array2 = np.random.randn(10).cumsum()\n",
    "array3 = np.random.randn(10).cumsum()\n",
    "array4 = np.random.randn(10).cumsum()"
   ]
  },
  {
   "cell_type": "code",
   "execution_count": 2,
   "metadata": {},
   "outputs": [],
   "source": [
    "## Your codes begin here:\n",
    "\n"
   ]
  },
  {
   "cell_type": "markdown",
   "metadata": {},
   "source": [
    "#### Q2. Modify your answer code in Q1, to change the color of the plots into (green, blue, red and black), respectively? And to add circle-markers to all plots?"
   ]
  },
  {
   "cell_type": "code",
   "execution_count": 3,
   "metadata": {},
   "outputs": [],
   "source": [
    "## Your codes begin here:\n",
    "\n"
   ]
  },
  {
   "cell_type": "markdown",
   "metadata": {},
   "source": [
    "#### Q3. In this task, you are required to do the following:\n",
    "\n",
    "#### 1. Create a line plot for 'array1' with red color and rectangle marker.\n",
    "#### 2. Create a line plot for 'array2' on the same subplot as array1, with green color and rectangle marker.\n",
    "#### 3. Add x-axis and y-axis labels ('X-Values' and 'Y-Values', respectively).\n",
    "#### 4. Add a title for this figure ('My Figure Title').\n",
    "#### 5. Add a legend for this figure.\n",
    "\n",
    "Hint1: Create a figure with only one subplot using function the **plt.subplots(1,1).\n",
    "\n",
    "Hint2: To add labels and a title, use the functions **set_xlabel()**, **set_ylabel()** and **set_title()**.\n",
    "\n",
    "Hint3: To add a legend, use the function **legend()** and the argument **label** for the plot function.\n",
    "\n",
    "Hint4: Refer to the lectures four and five of module 13 for more information."
   ]
  },
  {
   "cell_type": "code",
   "execution_count": 4,
   "metadata": {},
   "outputs": [],
   "source": [
    "## Your codes begin here:\n",
    "\n"
   ]
  },
  {
   "cell_type": "markdown",
   "metadata": {},
   "source": [
    "#### Q4. Use the dataframe which is created for you in the code cell below to do the following:\n",
    "\n",
    "#### 1. Use pandas library to create a bar plot for this dataframe ('frame1')?\n",
    "   **Hint:** use the function **plot.bar()\n",
    "   \n",
    "#### 2. Use pandas library to create a separate line plot for each column in this dataframe ('frame1')?\n",
    "   **Hint:** use the function **plot()**, to create separate plots use the argument **subplots = True**    \n",
    "   \n",
    "#### 3. Use seaborn library to create a bar plot for the column 'sale1' in this dataframe 'frame1'?\n",
    "   **Hint:** use the function **sns.barplot()"
   ]
  },
  {
   "cell_type": "code",
   "execution_count": 5,
   "metadata": {},
   "outputs": [
    {
     "data": {
      "text/html": [
       "<div>\n",
       "<style scoped>\n",
       "    .dataframe tbody tr th:only-of-type {\n",
       "        vertical-align: middle;\n",
       "    }\n",
       "\n",
       "    .dataframe tbody tr th {\n",
       "        vertical-align: top;\n",
       "    }\n",
       "\n",
       "    .dataframe thead th {\n",
       "        text-align: right;\n",
       "    }\n",
       "</style>\n",
       "<table border=\"1\" class=\"dataframe\">\n",
       "  <thead>\n",
       "    <tr style=\"text-align: right;\">\n",
       "      <th></th>\n",
       "      <th>sale1</th>\n",
       "      <th>sale2</th>\n",
       "      <th>sale3</th>\n",
       "    </tr>\n",
       "    <tr>\n",
       "      <th>year</th>\n",
       "      <th></th>\n",
       "      <th></th>\n",
       "      <th></th>\n",
       "    </tr>\n",
       "  </thead>\n",
       "  <tbody>\n",
       "    <tr>\n",
       "      <th>2019</th>\n",
       "      <td>200</td>\n",
       "      <td>258</td>\n",
       "      <td>592</td>\n",
       "    </tr>\n",
       "    <tr>\n",
       "      <th>2020</th>\n",
       "      <td>328</td>\n",
       "      <td>664</td>\n",
       "      <td>606</td>\n",
       "    </tr>\n",
       "    <tr>\n",
       "      <th>2021</th>\n",
       "      <td>870</td>\n",
       "      <td>249</td>\n",
       "      <td>918</td>\n",
       "    </tr>\n",
       "    <tr>\n",
       "      <th>2022</th>\n",
       "      <td>209</td>\n",
       "      <td>971</td>\n",
       "      <td>629</td>\n",
       "    </tr>\n",
       "  </tbody>\n",
       "</table>\n",
       "</div>"
      ],
      "text/plain": [
       "      sale1  sale2  sale3\n",
       "year                     \n",
       "2019    200    258    592\n",
       "2020    328    664    606\n",
       "2021    870    249    918\n",
       "2022    209    971    629"
      ]
     },
     "execution_count": 5,
     "metadata": {},
     "output_type": "execute_result"
    }
   ],
   "source": [
    "# Just run this cell to create the dataframe:\n",
    "\n",
    "frame1 = pd.read_csv('data/ex7.csv', index_col = 'year')\n",
    "frame1"
   ]
  },
  {
   "cell_type": "code",
   "execution_count": 6,
   "metadata": {},
   "outputs": [],
   "source": [
    "# 1. Use pandas library to create a bar plot for this dataframe ('frame1')?\n",
    "## Your codes begin here:\n",
    "\n"
   ]
  },
  {
   "cell_type": "code",
   "execution_count": 7,
   "metadata": {},
   "outputs": [],
   "source": [
    "#2. Use pandas library to create a separate line plot for each column in this dataframe ('frame1')?\n",
    "## Your codes begin here:\n",
    "\n"
   ]
  },
  {
   "cell_type": "code",
   "execution_count": 8,
   "metadata": {
    "scrolled": true
   },
   "outputs": [],
   "source": [
    "#1. 3. Use seaborn library to create a bar plot for the column 'sale1' in this dataframe 'frame1'?\n",
    "## Your codes begin here:\n",
    "\n"
   ]
  },
  {
   "cell_type": "markdown",
   "metadata": {},
   "source": [
    "***\n",
    "# Solutions\n",
    "***"
   ]
  },
  {
   "cell_type": "markdown",
   "metadata": {},
   "source": [
    "#### Q1. Create line plots for the four arrays (which are created in the first code cell below) in four separate subplots?"
   ]
  },
  {
   "cell_type": "code",
   "execution_count": 9,
   "metadata": {},
   "outputs": [],
   "source": [
    "## just run this cell to create the four arrays\n",
    "\n",
    "import numpy as np\n",
    "import pandas as pd\n",
    "import seaborn as sns\n",
    "import matplotlib.pyplot as plt\n",
    "%matplotlib inline\n",
    "np.random.seed(50)   ## Used to generate the same numbers each time we run the script.\n",
    "\n",
    "\n",
    "array1 = np.random.randn(10).cumsum()\n",
    "array2 = np.random.randn(10).cumsum()\n",
    "array3 = np.random.randn(10).cumsum()\n",
    "array4 = np.random.randn(10).cumsum()"
   ]
  },
  {
   "cell_type": "code",
   "execution_count": 10,
   "metadata": {},
   "outputs": [
    {
     "data": {
      "text/plain": [
       "[<matplotlib.lines.Line2D at 0x19edd6838b0>]"
      ]
     },
     "execution_count": 10,
     "metadata": {},
     "output_type": "execute_result"
    },
    {
     "data": {
      "image/png": "[encoded data removed]",
      "text/plain": [
       "<Figure size 432x288 with 4 Axes>"
      ]
     },
     "metadata": {
      "needs_background": "light"
     },
     "output_type": "display_data"
    }
   ],
   "source": [
    "## Your codes begin here:\n",
    "\n",
    "fig, ax = plt.subplots(2, 2)\n",
    "ax[0,0].plot(array1)\n",
    "ax[0,1].plot(array2)\n",
    "ax[1,0].plot(array3)\n",
    "ax[1,1].plot(array4)"
   ]
  },
  {
   "cell_type": "markdown",
   "metadata": {},
   "source": [
    "#### Q2. Modify your answer code in Q1, to change the color of the plots into (green, blue, red and black), respectively? And to add circle-markers to all plots?"
   ]
  },
  {
   "cell_type": "code",
   "execution_count": 11,
   "metadata": {},
   "outputs": [
    {
     "data": {
      "text/plain": [
       "[<matplotlib.lines.Line2D at 0x19edd837850>]"
      ]
     },
     "execution_count": 11,
     "metadata": {},
     "output_type": "execute_result"
    },
    {
     "data": {
      "image/png": "[encoded data removed]",
      "text/plain": [
       "<Figure size 432x288 with 4 Axes>"
      ]
     },
     "metadata": {
      "needs_background": "light"
     },
     "output_type": "display_data"
    }
   ],
   "source": [
    "## Your codes begin here:\n",
    "\n",
    "fig, ax = plt.subplots(2, 2)\n",
    "ax[0,0].plot(array1, color = 'green', marker = 'o')\n",
    "ax[0,1].plot(array2, color = 'blue', marker = 'o')\n",
    "ax[1,0].plot(array3, color = 'red', marker = 'o')\n",
    "ax[1,1].plot(array4, color = 'black', marker = 'o')"
   ]
  },
  {
   "cell_type": "markdown",
   "metadata": {},
   "source": [
    "#### Q3. In this task, you are required to do the following:\n",
    "\n",
    "#### 1. Create a line plot for 'array1' with red color and rectangle marker.\n",
    "#### 2. Create a line plot for 'array2' on the same subplot as array1, with green color and rectangle marker.\n",
    "#### 3. Add x-axis and y-axis labels ('X-Values' and 'Y-Values', respectively).\n",
    "#### 4. Add a title for this figure ('My Figure Title').\n",
    "#### 5. Add a legend for this figure."
   ]
  },
  {
   "cell_type": "code",
   "execution_count": 12,
   "metadata": {},
   "outputs": [
    {
     "data": {
      "text/plain": [
       "<matplotlib.legend.Legend at 0x19edd8c9c40>"
      ]
     },
     "execution_count": 12,
     "metadata": {},
     "output_type": "execute_result"
    },
    {
     "data": {
      "image/png": "[encoded data removed]",
      "text/plain": [
       "<Figure size 432x288 with 1 Axes>"
      ]
     },
     "metadata": {
      "needs_background": "light"
     },
     "output_type": "display_data"
    }
   ],
   "source": [
    "## Your codes begin here:\n",
    "\n",
    "fig, ax = plt.subplots(1,1)\n",
    "ax.plot(array1, color = 'red', marker = 's', label = 'array1')\n",
    "ax.plot(array2, color = 'green', marker = 's', label = 'array2')\n",
    "ax.set_xlabel('X-Values')\n",
    "ax.set_ylabel('Y-Values')\n",
    "ax.set_title('My Figure Title')\n",
    "ax.legend()"
   ]
  },
  {
   "cell_type": "markdown",
   "metadata": {},
   "source": [
    "#### Q4. Use the dataframe which is created for you in the code cell below to do the following:\n",
    "\n",
    "#### 1. Use pandas library to create a bar plot for this dataframe ('frame1')?\n",
    "   \n",
    "#### 2. Use pandas library to create a separate line plot for each column in this dataframe ('frame1')?   \n",
    "   \n",
    "#### 3. Use seaborn library to create a bar plot for the column 'sale1' in this dataframe 'frame1'?"
   ]
  },
  {
   "cell_type": "code",
   "execution_count": 13,
   "metadata": {},
   "outputs": [
    {
     "data": {
      "text/html": [
       "<div>\n",
       "<style scoped>\n",
       "    .dataframe tbody tr th:only-of-type {\n",
       "        vertical-align: middle;\n",
       "    }\n",
       "\n",
       "    .dataframe tbody tr th {\n",
       "        vertical-align: top;\n",
       "    }\n",
       "\n",
       "    .dataframe thead th {\n",
       "        text-align: right;\n",
       "    }\n",
       "</style>\n",
       "<table border=\"1\" class=\"dataframe\">\n",
       "  <thead>\n",
       "    <tr style=\"text-align: right;\">\n",
       "      <th></th>\n",
       "      <th>sale1</th>\n",
       "      <th>sale2</th>\n",
       "      <th>sale3</th>\n",
       "    </tr>\n",
       "    <tr>\n",
       "      <th>year</th>\n",
       "      <th></th>\n",
       "      <th></th>\n",
       "      <th></th>\n",
       "    </tr>\n",
       "  </thead>\n",
       "  <tbody>\n",
       "    <tr>\n",
       "      <th>2019</th>\n",
       "      <td>200</td>\n",
       "      <td>258</td>\n",
       "      <td>592</td>\n",
       "    </tr>\n",
       "    <tr>\n",
       "      <th>2020</th>\n",
       "      <td>328</td>\n",
       "      <td>664</td>\n",
       "      <td>606</td>\n",
       "    </tr>\n",
       "    <tr>\n",
       "      <th>2021</th>\n",
       "      <td>870</td>\n",
       "      <td>249</td>\n",
       "      <td>918</td>\n",
       "    </tr>\n",
       "    <tr>\n",
       "      <th>2022</th>\n",
       "      <td>209</td>\n",
       "      <td>971</td>\n",
       "      <td>629</td>\n",
       "    </tr>\n",
       "  </tbody>\n",
       "</table>\n",
       "</div>"
      ],
      "text/plain": [
       "      sale1  sale2  sale3\n",
       "year                     \n",
       "2019    200    258    592\n",
       "2020    328    664    606\n",
       "2021    870    249    918\n",
       "2022    209    971    629"
      ]
     },
     "execution_count": 13,
     "metadata": {},
     "output_type": "execute_result"
    }
   ],
   "source": [
    "# Just run this cell to create the dataframe:\n",
    "\n",
    "frame1 = pd.read_csv('data/ex7.csv', index_col = 'year')\n",
    "frame1"
   ]
  },
  {
   "cell_type": "code",
   "execution_count": 14,
   "metadata": {},
   "outputs": [
    {
     "data": {
      "text/plain": [
       "<AxesSubplot:xlabel='year'>"
      ]
     },
     "execution_count": 14,
     "metadata": {},
     "output_type": "execute_result"
    },
    {
     "data": {
      "image/png": "[encoded data removed]",
      "text/plain": [
       "<Figure size 432x288 with 1 Axes>"
      ]
     },
     "metadata": {
      "needs_background": "light"
     },
     "output_type": "display_data"
    }
   ],
   "source": [
    "# 1. Use pandas library to create a bar plot for this dataframe ('frame1')?\n",
    "## Your codes begin here:\n",
    "\n",
    "frame1.plot.bar()"
   ]
  },
  {
   "cell_type": "code",
   "execution_count": 15,
   "metadata": {},
   "outputs": [
    {
     "data": {
      "text/plain": [
       "array([<AxesSubplot:xlabel='year'>, <AxesSubplot:xlabel='year'>,\n",
       "       <AxesSubplot:xlabel='year'>], dtype=object)"
      ]
     },
     "execution_count": 15,
     "metadata": {},
     "output_type": "execute_result"
    },
    {
     "data": {
      "image/png": "[encoded data removed]",
      "text/plain": [
       "<Figure size 432x288 with 3 Axes>"
      ]
     },
     "metadata": {
      "needs_background": "light"
     },
     "output_type": "display_data"
    }
   ],
   "source": [
    "#2. Use pandas library to create a separate line plot for each column in this dataframe ('frame1')?\n",
    "## Your codes begin here:\n",
    "\n",
    "frame1.plot(subplots = True)"
   ]
  },
  {
   "cell_type": "code",
   "execution_count": 16,
   "metadata": {
    "scrolled": true
   },
   "outputs": [
    {
     "data": {
      "text/plain": [
       "<AxesSubplot:xlabel='year', ylabel='sale1'>"
      ]
     },
     "execution_count": 16,
     "metadata": {},
     "output_type": "execute_result"
    },
    {
     "data": {
      "image/png": "[encoded data removed]",
      "text/plain": [
       "<Figure size 432x288 with 1 Axes>"
      ]
     },
     "metadata": {
      "needs_background": "light"
     },
     "output_type": "display_data"
    }
   ],
   "source": [
    "#1. 3. Use seaborn library to create a bar plot for the column 'sale1' in this dataframe 'frame1'?\n",
    "## Your codes begin here:\n",
    "\n",
    "sns.barplot( x= frame1.index, y = frame1['sale1'])"
   ]
  },
  {
   "cell_type": "markdown",
   "metadata": {},
   "source": [
    "***\n",
    "\n",
    "<h1 align=\"center\">Thank You</h1> \n",
    "\n",
    "***"
   ]
  }
 ],
 "metadata": {
  "kernelspec": {
   "display_name": "Python 3",
   "language": "python",
   "name": "python3"
  },
  "language_info": {
   "codemirror_mode": {
    "name": "ipython",
    "version": 3
   },
   "file_extension": ".py",
   "mimetype": "text/x-python",
   "name": "python",
   "nbconvert_exporter": "python",
   "pygments_lexer": "ipython3",
   "version": "3.8.5"
  }
 },
 "nbformat": 4,
 "nbformat_minor": 4
}
