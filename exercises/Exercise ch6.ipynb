{
 "cells": [
  {
   "cell_type": "markdown",
   "metadata": {},
   "source": [
    "![title](img/cover4.png)"
   ]
  },
  {
   "cell_type": "markdown",
   "metadata": {},
   "source": [
    "<center><em>Copyright! This material is protected, please do not copy or distribute.    by:Taher Assaf</em></center>"
   ]
  },
  {
   "cell_type": "markdown",
   "metadata": {},
   "source": [
    "***\n",
    "<h1 align=\"center\">Udemy course : Python Bootcamp for Data Science 2021 Numpy Pandas & Seaborn</h1> \n",
    "\n",
    "***"
   ]
  },
  {
   "cell_type": "markdown",
   "metadata": {},
   "source": [
    "### The Exercise for  Module 6\n",
    "\n",
    "#### Instruction:  Please write your code after the phrase \" ## Your codes begin here:\""
   ]
  },
  {
   "cell_type": "markdown",
   "metadata": {},
   "source": [
    "#### Q1. In the next code cell, create a numpy array named 'array1'  that consists of random numbers with the shape (3,4), i.e. three rows and four columns? Then display it?\n",
    "\n",
    "**Hint**: To generate random numbers, you might need to use this function (**np.random.randn()**)\n",
    "\n",
    "The output shoulld look like this:\n",
    "\n",
    "output:\n",
    "\n",
    "  array    ([[-1.56035211, -0.0309776 , -0.62092842, -1.46458049],\n",
    "\n",
    "       [ 1.41194612, -0.47673214, -0.78046921,  1.07026774],\n",
    "       \n",
    "       [-1.2822926 , -1.3274789 ,  0.12633764,  0.86219372]])       "
   ]
  },
  {
   "cell_type": "code",
   "execution_count": 1,
   "metadata": {},
   "outputs": [],
   "source": [
    "import numpy as np\n",
    "np.random.seed(50)   ## Used to generate the same numbers each time we run the script.\n",
    "\n",
    "## Your codes begin here:\n",
    "\n"
   ]
  },
  {
   "cell_type": "markdown",
   "metadata": {},
   "source": [
    "#### Q2. Display the shape and the dimension of 'array1', that was created in Q1?\n",
    "\n",
    "**Hint:** you need to use **print statements, print()** to display multiple lines of code. \n",
    "The output should look like this:\n",
    "\n",
    "The output shoulld look like this:\n",
    "\n",
    "**output:** \n",
    "\n",
    "The shape is:  (3, 4)\n",
    "\n",
    "The dimension is  2"
   ]
  },
  {
   "cell_type": "code",
   "execution_count": 2,
   "metadata": {},
   "outputs": [],
   "source": [
    "## Your codes begin here:\n",
    "\n",
    "\n"
   ]
  },
  {
   "cell_type": "markdown",
   "metadata": {},
   "source": [
    "#### Q3. Display the data type of 'array1', that was created in Q1? \n",
    "\n",
    "The output shoulld look like this:\n",
    "\n",
    "**output:**\n",
    "\n",
    "dtype('float64')"
   ]
  },
  {
   "cell_type": "code",
   "execution_count": 3,
   "metadata": {},
   "outputs": [],
   "source": [
    "## Your codes begin here:\n",
    "\n"
   ]
  },
  {
   "cell_type": "markdown",
   "metadata": {},
   "source": [
    "#### Q4. Use your indexing skills to select only the last two columns and the last two rows from 'array1' that was created in Q1?\n",
    "\n",
    "**Hint: There is no universal answer to this question. \n",
    "\n",
    "\n",
    "The output shoulld look like this:\n",
    "\n",
    "**output:**\n",
    "\n",
    "array([[ 1.44774523, -0.16963134],\n",
    "\n",
    "       [-0.94879155, -0.21160221]])"
   ]
  },
  {
   "cell_type": "code",
   "execution_count": 4,
   "metadata": {},
   "outputs": [],
   "source": [
    "## Your codes begin here:\n",
    "\n"
   ]
  },
  {
   "cell_type": "markdown",
   "metadata": {},
   "source": [
    "#### Q5. Use boolean indexing to select only positive numbers from 'array1' that was created in Q1?\n",
    "\n",
    "The output shoulld look like this:\n",
    "\n",
    "**output:**\n",
    "\n",
    "array([1.41194612, 1.07026774, 0.12633764, 0.86219372])"
   ]
  },
  {
   "cell_type": "code",
   "execution_count": 5,
   "metadata": {},
   "outputs": [],
   "source": [
    "## Your codes begin here:\n",
    "\n"
   ]
  },
  {
   "cell_type": "markdown",
   "metadata": {},
   "source": [
    "#### Q6. Transpose 'array1' that was created in Q1?\n",
    "\n",
    "\n",
    "The output shoulld look like this:\n",
    "\n",
    "**output:**\n",
    "\n",
    "array([[-1.56035211,  1.41194612, -1.2822926 ],\n",
    "\n",
    "       [-0.0309776 , -0.47673214, -1.3274789 ],\n",
    "       \n",
    "       [-0.62092842, -0.78046921,  0.12633764],\n",
    "       \n",
    "       [-1.46458049,  1.07026774,  0.86219372]])\n",
    "       "
   ]
  },
  {
   "cell_type": "code",
   "execution_count": 6,
   "metadata": {},
   "outputs": [],
   "source": [
    "## Your codes begin here:\n",
    "\n"
   ]
  },
  {
   "cell_type": "markdown",
   "metadata": {},
   "source": [
    "#### Q7. Sort 'array1' within columns? Then display it?\n",
    "**Hint:** Sorting within columns means sorting along rows.\n",
    "\n",
    "The output shoulld look like this:\n",
    "\n",
    "**output:** \n",
    "\n",
    "array([[-1.56035211, -1.46458049, -0.62092842, -0.0309776 ],\n",
    "\n",
    "       [-0.78046921, -0.47673214,  1.07026774,  1.41194612],\n",
    "       \n",
    "       [-1.3274789 , -1.2822926 ,  0.12633764,  0.86219372]])"
   ]
  },
  {
   "cell_type": "code",
   "execution_count": 7,
   "metadata": {
    "scrolled": false
   },
   "outputs": [],
   "source": [
    "## Your codes begin here:\n",
    "\n"
   ]
  },
  {
   "cell_type": "markdown",
   "metadata": {},
   "source": [
    "***\n",
    "# Solutions\n",
    "***"
   ]
  },
  {
   "cell_type": "markdown",
   "metadata": {},
   "source": [
    "#### Q1. In the next code cell, create a numpy array named 'array1'  that consists of random numbers with the shape (3,4), i.e. three rows and four columns? Then display it?      "
   ]
  },
  {
   "cell_type": "code",
   "execution_count": 5,
   "metadata": {},
   "outputs": [
    {
     "data": {
      "text/plain": [
       "array([[-1.56035211, -0.0309776 , -0.62092842, -1.46458049],\n",
       "       [ 1.41194612, -0.47673214, -0.78046921,  1.07026774],\n",
       "       [-1.2822926 , -1.3274789 ,  0.12633764,  0.86219372]])"
      ]
     },
     "execution_count": 5,
     "metadata": {},
     "output_type": "execute_result"
    }
   ],
   "source": [
    "import numpy as np\n",
    "np.random.seed(50)   ## Used to generate the same numbers each time we run the script.\n",
    "\n",
    "## Your codes begin here:\n",
    "\n",
    "array1 = np.random.randn(3,4)\n",
    "array1"
   ]
  },
  {
   "cell_type": "markdown",
   "metadata": {},
   "source": [
    "#### Q2. Display the shape and the dimension of 'array1', that was created in Q1?"
   ]
  },
  {
   "cell_type": "code",
   "execution_count": 9,
   "metadata": {},
   "outputs": [
    {
     "name": "stdout",
     "output_type": "stream",
     "text": [
      "The shape is:  (3, 4)\n",
      "The dimension is  2\n"
     ]
    }
   ],
   "source": [
    "## Your codes begin here:\n",
    "\n",
    "print('The shape is: ', array1.shape)\n",
    "print('The dimension is ', array1.ndim)"
   ]
  },
  {
   "cell_type": "markdown",
   "metadata": {},
   "source": [
    "#### Q3. Display the data type of 'array1', that was created in Q1? "
   ]
  },
  {
   "cell_type": "code",
   "execution_count": 10,
   "metadata": {},
   "outputs": [
    {
     "data": {
      "text/plain": [
       "dtype('float64')"
      ]
     },
     "execution_count": 10,
     "metadata": {},
     "output_type": "execute_result"
    }
   ],
   "source": [
    "## Your codes begin here:\n",
    "\n",
    "array1.dtype"
   ]
  },
  {
   "cell_type": "markdown",
   "metadata": {},
   "source": [
    "#### Q4. Use your indexing skills to select only the last two columns and the last two rows from 'array1' that was created in Q1?"
   ]
  },
  {
   "cell_type": "code",
   "execution_count": 11,
   "metadata": {},
   "outputs": [
    {
     "data": {
      "text/plain": [
       "array([[-0.78046921,  1.07026774],\n",
       "       [ 0.12633764,  0.86219372]])"
      ]
     },
     "execution_count": 11,
     "metadata": {},
     "output_type": "execute_result"
    }
   ],
   "source": [
    "## Your codes begin here:\n",
    "\n",
    "array1[1:,2:]"
   ]
  },
  {
   "cell_type": "markdown",
   "metadata": {},
   "source": [
    "#### Q5. Use boolean indexing to select only positive numbers from 'array1' that was created in Q1?"
   ]
  },
  {
   "cell_type": "code",
   "execution_count": 12,
   "metadata": {},
   "outputs": [
    {
     "data": {
      "text/plain": [
       "array([1.41194612, 1.07026774, 0.12633764, 0.86219372])"
      ]
     },
     "execution_count": 12,
     "metadata": {},
     "output_type": "execute_result"
    }
   ],
   "source": [
    "## Your codes begin here:\n",
    "\n",
    "array1[array1 > 0]"
   ]
  },
  {
   "cell_type": "markdown",
   "metadata": {},
   "source": [
    "#### Q6. Transpose 'array1' that was created in Q1?"
   ]
  },
  {
   "cell_type": "code",
   "execution_count": 13,
   "metadata": {},
   "outputs": [
    {
     "data": {
      "text/plain": [
       "array([[-1.56035211,  1.41194612, -1.2822926 ],\n",
       "       [-0.0309776 , -0.47673214, -1.3274789 ],\n",
       "       [-0.62092842, -0.78046921,  0.12633764],\n",
       "       [-1.46458049,  1.07026774,  0.86219372]])"
      ]
     },
     "execution_count": 13,
     "metadata": {},
     "output_type": "execute_result"
    }
   ],
   "source": [
    "## Your codes begin here:\n",
    "\n",
    "array1.T"
   ]
  },
  {
   "cell_type": "markdown",
   "metadata": {},
   "source": [
    "#### Q7. Sort 'array1' within columns? Then display it?"
   ]
  },
  {
   "cell_type": "code",
   "execution_count": 6,
   "metadata": {
    "scrolled": false
   },
   "outputs": [
    {
     "data": {
      "text/plain": [
       "array([[-1.56035211, -1.46458049, -0.62092842, -0.0309776 ],\n",
       "       [-0.78046921, -0.47673214,  1.07026774,  1.41194612],\n",
       "       [-1.3274789 , -1.2822926 ,  0.12633764,  0.86219372]])"
      ]
     },
     "execution_count": 6,
     "metadata": {},
     "output_type": "execute_result"
    }
   ],
   "source": [
    "## Your codes begin here:\n",
    "\n",
    "array1.sort(1)\n",
    "array1"
   ]
  },
  {
   "cell_type": "markdown",
   "metadata": {},
   "source": [
    "***\n",
    "\n",
    "<h1 align=\"center\">Thank You</h1> \n",
    "\n",
    "***"
   ]
  }
 ],
 "metadata": {
  "kernelspec": {
   "display_name": "Python 3",
   "language": "python",
   "name": "python3"
  },
  "language_info": {
   "codemirror_mode": {
    "name": "ipython",
    "version": 3
   },
   "file_extension": ".py",
   "mimetype": "text/x-python",
   "name": "python",
   "nbconvert_exporter": "python",
   "pygments_lexer": "ipython3",
   "version": "3.8.5"
  }
 },
 "nbformat": 4,
 "nbformat_minor": 4
}
