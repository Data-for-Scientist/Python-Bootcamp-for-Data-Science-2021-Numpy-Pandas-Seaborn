{
 "cells": [
  {
   "cell_type": "markdown",
   "metadata": {},
   "source": [
    "![title](img/cover4.png)"
   ]
  },
  {
   "cell_type": "markdown",
   "metadata": {},
   "source": [
    "<center><em>Copyright! This material is protected, please do not copy or distribute.    by:Taher Assaf</em></center>"
   ]
  },
  {
   "cell_type": "markdown",
   "metadata": {},
   "source": [
    "***\n",
    "<h1 align=\"center\">Udemy course : Python Bootcamp for Data Science 2021 Numpy Pandas & Seaborn</h1> \n",
    "\n",
    "***"
   ]
  },
  {
   "cell_type": "markdown",
   "metadata": {},
   "source": [
    "### The Exercise for  Module 8\n",
    "\n",
    "#### Instruction:  Please write your code after the phrase \" ## Your codes begin here:\""
   ]
  },
  {
   "cell_type": "markdown",
   "metadata": {},
   "source": [
    "#### Q1. Read a csv file from the path: ('data/credit.csv')  into a pandas dataframe named 'credit'? Then display its head?\n",
    "\n",
    "**Hint**: You will need the functions **pd.read_csv()** and **head()**\n",
    "  "
   ]
  },
  {
   "cell_type": "code",
   "execution_count": 1,
   "metadata": {},
   "outputs": [],
   "source": [
    "import pandas as pd\n",
    "\n",
    "## Your codes begin here:\n",
    "\n"
   ]
  },
  {
   "cell_type": "markdown",
   "metadata": {},
   "source": [
    "#### Q2. Set the index for the dataframe 'credit' to the column with the label ('Income'), and make the change permanent? Then display the head of the dataframe?\n",
    "\n",
    "\n",
    "**Hint1:** you will need the function **set_index()**.\n",
    "\n",
    "**Hint2:** To make the changes permanent, use the argument  **inplace = True**."
   ]
  },
  {
   "cell_type": "code",
   "execution_count": 2,
   "metadata": {},
   "outputs": [],
   "source": [
    "## Your codes begin here:\n",
    "\n"
   ]
  },
  {
   "cell_type": "markdown",
   "metadata": {},
   "source": [
    "#### Q3. Read an excel file with the path: ('data/credit.xlsx') into a pandas dataframe named ('df1')? Then display its head?\n",
    "\n",
    "**Hint:** You will need the functions **pd.read_excel()** and **head()**"
   ]
  },
  {
   "cell_type": "code",
   "execution_count": 3,
   "metadata": {},
   "outputs": [],
   "source": [
    "## Your codes begin here:\n",
    "\n"
   ]
  },
  {
   "cell_type": "markdown",
   "metadata": {},
   "source": [
    "#### Q4. Save the dataframe ('customers') that will be created in the first code cell below as a csv file to your local disk with the name ('mydata.csv)?\n",
    "\n",
    "**Hint1:** Do not forget to run the first code cell below to create the 'customers' dataframe first.\n",
    "\n",
    "\n",
    "**Hint2:** you will need the function **to_csv()**."
   ]
  },
  {
   "cell_type": "code",
   "execution_count": 4,
   "metadata": {},
   "outputs": [],
   "source": [
    "## Just run this cell to create the customers dataframe\n",
    "\n",
    "dictionary1 = {'name': ['Bob', 'Sam','William','Jon', 'Bill', 'Maria', 'Jenny', 'Jack'],\n",
    "        'age': [23, 19, 29, 32, 43, 23, 18, 26], 'income': [55, 65, 44, 98, 59, 87, 81, 78]}\n",
    "\n",
    "customers = pd.DataFrame(dictionary1)"
   ]
  },
  {
   "cell_type": "code",
   "execution_count": 5,
   "metadata": {},
   "outputs": [],
   "source": [
    "## Your codes begin here:\n",
    "\n"
   ]
  },
  {
   "cell_type": "markdown",
   "metadata": {},
   "source": [
    "***\n",
    "# Solutions\n",
    "***"
   ]
  },
  {
   "cell_type": "markdown",
   "metadata": {},
   "source": [
    "#### Q1. Read a csv file from the path: ('data/credit.csv')  into a pandas dataframe named 'credit'? Then display its head?"
   ]
  },
  {
   "cell_type": "code",
   "execution_count": 6,
   "metadata": {},
   "outputs": [
    {
     "data": {
      "text/html": [
       "<div>\n",
       "<style scoped>\n",
       "    .dataframe tbody tr th:only-of-type {\n",
       "        vertical-align: middle;\n",
       "    }\n",
       "\n",
       "    .dataframe tbody tr th {\n",
       "        vertical-align: top;\n",
       "    }\n",
       "\n",
       "    .dataframe thead th {\n",
       "        text-align: right;\n",
       "    }\n",
       "</style>\n",
       "<table border=\"1\" class=\"dataframe\">\n",
       "  <thead>\n",
       "    <tr style=\"text-align: right;\">\n",
       "      <th></th>\n",
       "      <th>Income</th>\n",
       "      <th>Limit</th>\n",
       "      <th>Rating</th>\n",
       "      <th>Cards</th>\n",
       "      <th>Age</th>\n",
       "      <th>Education</th>\n",
       "      <th>Gender</th>\n",
       "      <th>Student</th>\n",
       "      <th>Married</th>\n",
       "      <th>Ethnicity</th>\n",
       "      <th>Balance</th>\n",
       "    </tr>\n",
       "  </thead>\n",
       "  <tbody>\n",
       "    <tr>\n",
       "      <th>0</th>\n",
       "      <td>19.225</td>\n",
       "      <td>1433</td>\n",
       "      <td>122</td>\n",
       "      <td>3</td>\n",
       "      <td>38</td>\n",
       "      <td>14</td>\n",
       "      <td>Female</td>\n",
       "      <td>No</td>\n",
       "      <td>No</td>\n",
       "      <td>Caucasian</td>\n",
       "      <td>0</td>\n",
       "    </tr>\n",
       "    <tr>\n",
       "      <th>1</th>\n",
       "      <td>43.540</td>\n",
       "      <td>2906</td>\n",
       "      <td>232</td>\n",
       "      <td>4</td>\n",
       "      <td>69</td>\n",
       "      <td>11</td>\n",
       "      <td>Male</td>\n",
       "      <td>No</td>\n",
       "      <td>No</td>\n",
       "      <td>Caucasian</td>\n",
       "      <td>0</td>\n",
       "    </tr>\n",
       "    <tr>\n",
       "      <th>2</th>\n",
       "      <td>55.367</td>\n",
       "      <td>6340</td>\n",
       "      <td>448</td>\n",
       "      <td>1</td>\n",
       "      <td>33</td>\n",
       "      <td>15</td>\n",
       "      <td>Male</td>\n",
       "      <td>No</td>\n",
       "      <td>Yes</td>\n",
       "      <td>Caucasian</td>\n",
       "      <td>815</td>\n",
       "    </tr>\n",
       "    <tr>\n",
       "      <th>3</th>\n",
       "      <td>11.741</td>\n",
       "      <td>2271</td>\n",
       "      <td>182</td>\n",
       "      <td>4</td>\n",
       "      <td>59</td>\n",
       "      <td>12</td>\n",
       "      <td>Female</td>\n",
       "      <td>No</td>\n",
       "      <td>No</td>\n",
       "      <td>Asian</td>\n",
       "      <td>0</td>\n",
       "    </tr>\n",
       "    <tr>\n",
       "      <th>4</th>\n",
       "      <td>15.560</td>\n",
       "      <td>4307</td>\n",
       "      <td>352</td>\n",
       "      <td>4</td>\n",
       "      <td>57</td>\n",
       "      <td>8</td>\n",
       "      <td>Male</td>\n",
       "      <td>No</td>\n",
       "      <td>Yes</td>\n",
       "      <td>African American</td>\n",
       "      <td>579</td>\n",
       "    </tr>\n",
       "  </tbody>\n",
       "</table>\n",
       "</div>"
      ],
      "text/plain": [
       "   Income  Limit  Rating  Cards  Age  Education  Gender Student Married  \\\n",
       "0  19.225   1433     122      3   38         14  Female      No      No   \n",
       "1  43.540   2906     232      4   69         11    Male      No      No   \n",
       "2  55.367   6340     448      1   33         15    Male      No     Yes   \n",
       "3  11.741   2271     182      4   59         12  Female      No      No   \n",
       "4  15.560   4307     352      4   57          8    Male      No     Yes   \n",
       "\n",
       "          Ethnicity  Balance  \n",
       "0         Caucasian        0  \n",
       "1         Caucasian        0  \n",
       "2         Caucasian      815  \n",
       "3             Asian        0  \n",
       "4  African American      579  "
      ]
     },
     "execution_count": 6,
     "metadata": {},
     "output_type": "execute_result"
    }
   ],
   "source": [
    "import pandas as pd\n",
    "\n",
    "## Your codes begin here:\n",
    "\n",
    "credit = pd.read_csv('data/credit.csv')\n",
    "credit.head()"
   ]
  },
  {
   "cell_type": "markdown",
   "metadata": {},
   "source": [
    "#### Q2. Set the index for the dataframe 'credit' to the column with the label ('Income'), and make the change permanent? Then display the head of the dataframe?"
   ]
  },
  {
   "cell_type": "code",
   "execution_count": 7,
   "metadata": {},
   "outputs": [
    {
     "data": {
      "text/html": [
       "<div>\n",
       "<style scoped>\n",
       "    .dataframe tbody tr th:only-of-type {\n",
       "        vertical-align: middle;\n",
       "    }\n",
       "\n",
       "    .dataframe tbody tr th {\n",
       "        vertical-align: top;\n",
       "    }\n",
       "\n",
       "    .dataframe thead th {\n",
       "        text-align: right;\n",
       "    }\n",
       "</style>\n",
       "<table border=\"1\" class=\"dataframe\">\n",
       "  <thead>\n",
       "    <tr style=\"text-align: right;\">\n",
       "      <th></th>\n",
       "      <th>Limit</th>\n",
       "      <th>Rating</th>\n",
       "      <th>Cards</th>\n",
       "      <th>Age</th>\n",
       "      <th>Education</th>\n",
       "      <th>Gender</th>\n",
       "      <th>Student</th>\n",
       "      <th>Married</th>\n",
       "      <th>Ethnicity</th>\n",
       "      <th>Balance</th>\n",
       "    </tr>\n",
       "    <tr>\n",
       "      <th>Income</th>\n",
       "      <th></th>\n",
       "      <th></th>\n",
       "      <th></th>\n",
       "      <th></th>\n",
       "      <th></th>\n",
       "      <th></th>\n",
       "      <th></th>\n",
       "      <th></th>\n",
       "      <th></th>\n",
       "      <th></th>\n",
       "    </tr>\n",
       "  </thead>\n",
       "  <tbody>\n",
       "    <tr>\n",
       "      <th>19.225</th>\n",
       "      <td>1433</td>\n",
       "      <td>122</td>\n",
       "      <td>3</td>\n",
       "      <td>38</td>\n",
       "      <td>14</td>\n",
       "      <td>Female</td>\n",
       "      <td>No</td>\n",
       "      <td>No</td>\n",
       "      <td>Caucasian</td>\n",
       "      <td>0</td>\n",
       "    </tr>\n",
       "    <tr>\n",
       "      <th>43.540</th>\n",
       "      <td>2906</td>\n",
       "      <td>232</td>\n",
       "      <td>4</td>\n",
       "      <td>69</td>\n",
       "      <td>11</td>\n",
       "      <td>Male</td>\n",
       "      <td>No</td>\n",
       "      <td>No</td>\n",
       "      <td>Caucasian</td>\n",
       "      <td>0</td>\n",
       "    </tr>\n",
       "    <tr>\n",
       "      <th>55.367</th>\n",
       "      <td>6340</td>\n",
       "      <td>448</td>\n",
       "      <td>1</td>\n",
       "      <td>33</td>\n",
       "      <td>15</td>\n",
       "      <td>Male</td>\n",
       "      <td>No</td>\n",
       "      <td>Yes</td>\n",
       "      <td>Caucasian</td>\n",
       "      <td>815</td>\n",
       "    </tr>\n",
       "    <tr>\n",
       "      <th>11.741</th>\n",
       "      <td>2271</td>\n",
       "      <td>182</td>\n",
       "      <td>4</td>\n",
       "      <td>59</td>\n",
       "      <td>12</td>\n",
       "      <td>Female</td>\n",
       "      <td>No</td>\n",
       "      <td>No</td>\n",
       "      <td>Asian</td>\n",
       "      <td>0</td>\n",
       "    </tr>\n",
       "    <tr>\n",
       "      <th>15.560</th>\n",
       "      <td>4307</td>\n",
       "      <td>352</td>\n",
       "      <td>4</td>\n",
       "      <td>57</td>\n",
       "      <td>8</td>\n",
       "      <td>Male</td>\n",
       "      <td>No</td>\n",
       "      <td>Yes</td>\n",
       "      <td>African American</td>\n",
       "      <td>579</td>\n",
       "    </tr>\n",
       "  </tbody>\n",
       "</table>\n",
       "</div>"
      ],
      "text/plain": [
       "        Limit  Rating  Cards  Age  Education  Gender Student Married  \\\n",
       "Income                                                                 \n",
       "19.225   1433     122      3   38         14  Female      No      No   \n",
       "43.540   2906     232      4   69         11    Male      No      No   \n",
       "55.367   6340     448      1   33         15    Male      No     Yes   \n",
       "11.741   2271     182      4   59         12  Female      No      No   \n",
       "15.560   4307     352      4   57          8    Male      No     Yes   \n",
       "\n",
       "               Ethnicity  Balance  \n",
       "Income                             \n",
       "19.225         Caucasian        0  \n",
       "43.540         Caucasian        0  \n",
       "55.367         Caucasian      815  \n",
       "11.741             Asian        0  \n",
       "15.560  African American      579  "
      ]
     },
     "execution_count": 7,
     "metadata": {},
     "output_type": "execute_result"
    }
   ],
   "source": [
    "## Your codes begin here:\n",
    "\n",
    "credit.set_index('Income', inplace = True)\n",
    "credit.head()"
   ]
  },
  {
   "cell_type": "markdown",
   "metadata": {},
   "source": [
    "#### Q3. Read an excel file with the path: ('data/credit.xlsx') into a pandas dataframe named ('df1')? Then display its head?"
   ]
  },
  {
   "cell_type": "code",
   "execution_count": 8,
   "metadata": {},
   "outputs": [
    {
     "data": {
      "text/html": [
       "<div>\n",
       "<style scoped>\n",
       "    .dataframe tbody tr th:only-of-type {\n",
       "        vertical-align: middle;\n",
       "    }\n",
       "\n",
       "    .dataframe tbody tr th {\n",
       "        vertical-align: top;\n",
       "    }\n",
       "\n",
       "    .dataframe thead th {\n",
       "        text-align: right;\n",
       "    }\n",
       "</style>\n",
       "<table border=\"1\" class=\"dataframe\">\n",
       "  <thead>\n",
       "    <tr style=\"text-align: right;\">\n",
       "      <th></th>\n",
       "      <th>Income</th>\n",
       "      <th>Limit</th>\n",
       "      <th>Rating</th>\n",
       "      <th>Cards</th>\n",
       "      <th>Age</th>\n",
       "      <th>Education</th>\n",
       "      <th>Gender</th>\n",
       "      <th>Student</th>\n",
       "      <th>Married</th>\n",
       "      <th>Ethnicity</th>\n",
       "      <th>Balance</th>\n",
       "    </tr>\n",
       "  </thead>\n",
       "  <tbody>\n",
       "    <tr>\n",
       "      <th>0</th>\n",
       "      <td>19.225</td>\n",
       "      <td>1433</td>\n",
       "      <td>122</td>\n",
       "      <td>3</td>\n",
       "      <td>38</td>\n",
       "      <td>14</td>\n",
       "      <td>Female</td>\n",
       "      <td>No</td>\n",
       "      <td>No</td>\n",
       "      <td>Caucasian</td>\n",
       "      <td>0</td>\n",
       "    </tr>\n",
       "    <tr>\n",
       "      <th>1</th>\n",
       "      <td>43.540</td>\n",
       "      <td>2906</td>\n",
       "      <td>232</td>\n",
       "      <td>4</td>\n",
       "      <td>69</td>\n",
       "      <td>11</td>\n",
       "      <td>Male</td>\n",
       "      <td>No</td>\n",
       "      <td>No</td>\n",
       "      <td>Caucasian</td>\n",
       "      <td>0</td>\n",
       "    </tr>\n",
       "    <tr>\n",
       "      <th>2</th>\n",
       "      <td>152.298</td>\n",
       "      <td>12066</td>\n",
       "      <td>828</td>\n",
       "      <td>4</td>\n",
       "      <td>41</td>\n",
       "      <td>12</td>\n",
       "      <td>Female</td>\n",
       "      <td>No</td>\n",
       "      <td>Yes</td>\n",
       "      <td>Asian</td>\n",
       "      <td>1779</td>\n",
       "    </tr>\n",
       "    <tr>\n",
       "      <th>3</th>\n",
       "      <td>55.367</td>\n",
       "      <td>6340</td>\n",
       "      <td>448</td>\n",
       "      <td>1</td>\n",
       "      <td>33</td>\n",
       "      <td>15</td>\n",
       "      <td>Male</td>\n",
       "      <td>No</td>\n",
       "      <td>Yes</td>\n",
       "      <td>Caucasian</td>\n",
       "      <td>815</td>\n",
       "    </tr>\n",
       "    <tr>\n",
       "      <th>4</th>\n",
       "      <td>11.741</td>\n",
       "      <td>2271</td>\n",
       "      <td>182</td>\n",
       "      <td>4</td>\n",
       "      <td>59</td>\n",
       "      <td>12</td>\n",
       "      <td>Female</td>\n",
       "      <td>No</td>\n",
       "      <td>No</td>\n",
       "      <td>Asian</td>\n",
       "      <td>0</td>\n",
       "    </tr>\n",
       "  </tbody>\n",
       "</table>\n",
       "</div>"
      ],
      "text/plain": [
       "    Income  Limit  Rating  Cards  Age  Education  Gender Student Married  \\\n",
       "0   19.225   1433     122      3   38         14  Female      No      No   \n",
       "1   43.540   2906     232      4   69         11    Male      No      No   \n",
       "2  152.298  12066     828      4   41         12  Female      No     Yes   \n",
       "3   55.367   6340     448      1   33         15    Male      No     Yes   \n",
       "4   11.741   2271     182      4   59         12  Female      No      No   \n",
       "\n",
       "   Ethnicity  Balance  \n",
       "0  Caucasian        0  \n",
       "1  Caucasian        0  \n",
       "2      Asian     1779  \n",
       "3  Caucasian      815  \n",
       "4      Asian        0  "
      ]
     },
     "execution_count": 8,
     "metadata": {},
     "output_type": "execute_result"
    }
   ],
   "source": [
    "## Your codes begin here:\n",
    "\n",
    "df1 = pd.read_excel('data/credit.xlsx')\n",
    "df1.head()"
   ]
  },
  {
   "cell_type": "markdown",
   "metadata": {},
   "source": [
    "#### Q4. Save the dataframe ('customers') that will be created in the first code cell below as a csv file to your local disk with the name ('mydata.csv)?"
   ]
  },
  {
   "cell_type": "code",
   "execution_count": 9,
   "metadata": {},
   "outputs": [],
   "source": [
    "## Just run this cell to create the customers dataframe\n",
    "\n",
    "dictionary1 = {'name': ['Bob', 'Sam','William','Jon', 'Bill', 'Maria', 'Jenny', 'Jack'],\n",
    "        'age': [23, 19, 29, 32, 43, 23, 18, 26], 'income': [55, 65, 44, 98, 59, 87, 81, 78]}\n",
    "\n",
    "customers = pd.DataFrame(dictionary1)"
   ]
  },
  {
   "cell_type": "code",
   "execution_count": 10,
   "metadata": {},
   "outputs": [],
   "source": [
    "## Your codes begin here:\n",
    "\n",
    "customers.to_csv('data/mydata.csv')"
   ]
  },
  {
   "cell_type": "markdown",
   "metadata": {},
   "source": [
    "***\n",
    "\n",
    "<h1 align=\"center\">Thank You</h1> \n",
    "\n",
    "***"
   ]
  }
 ],
 "metadata": {
  "kernelspec": {
   "display_name": "Python 3",
   "language": "python",
   "name": "python3"
  },
  "language_info": {
   "codemirror_mode": {
    "name": "ipython",
    "version": 3
   },
   "file_extension": ".py",
   "mimetype": "text/x-python",
   "name": "python",
   "nbconvert_exporter": "python",
   "pygments_lexer": "ipython3",
   "version": "3.8.5"
  }
 },
 "nbformat": 4,
 "nbformat_minor": 4
}
